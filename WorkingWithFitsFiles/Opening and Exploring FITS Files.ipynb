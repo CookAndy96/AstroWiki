{
 "cells": [
  {
   "cell_type": "markdown",
   "metadata": {},
   "source": [
    "# Opening and Exploring FITS files\n",
    "\n",
    "## FITS files are the standard astronomical image format\n",
    "At some point, probably fairly quickly in your astronomy career, you will encounter FITS files. 99 times out of 100, they will be astronomical images. That last 1% is reserved for those special occasions when a FITS file is actually a table. This case will be dealt with in another example.\n",
    "\n",
    "For now, lets look at what this example will show you. It will:\n",
    "\n",
    "* Show you how to load in a FITS file and see what it contains\n",
    "* Go through FITS headers, keywords, and what they mean\n",
    "* Have a look at FITS data, and briefly show what you can do with it (data manipulation and presentation will be covered in other examples)\n",
    "\n",
    "So, lets get started. \n",
    "\n",
    "## Introducing AstroPy - A Python Astronomers Best Friend! (And Worst Nightmare!)\n",
    "It should come as a surprise to noone that, as with anything that Python can be used for, astronomy has a thriving Python community, and one of the largest and most well used modules is AstroPy. AstroPy is extremely versetile, packed full of useful tools, many of which will be covered in other examples and tutorials. As such, the AstroPy [documentation](https://docs.astropy.org/en/stable/index.html) is extensive and very, very through. This is both a blessing and a curse. All the information you could ever want is in there... somewhere. Knowing where is an art in and of itself. You will get there, dont worry! \n",
    "\n",
    "This tutorial is concerned with reading in and writing out FITS files. This is handled by the ``astropy.io.fits`` module. And you can go to the AstroPy documentation and find the section relating to [just FITS file handling](https://docs.astropy.org/en/stable/io/fits/index.html) and look up everything you need there. But there is a **LOT** of information to take in. So this example goes over just a fraction of it. Just the basics of taking a first look at a FITS file.\n",
    "\n",
    "## Importing AstroPy's input/output FITS module and opening a FITS file\n",
    "This example comes, rather handily, with its own little FITS image file. AstroPy has some example files too, but having one on disc is rather nice. It's a very simple file, designed to mimic a *Herschel* SPIRE photometry image, probably in the 350 micon band. Dont worry about this too much. It could be literally any image. \n",
    "\n",
    "The first thing we need to do is import the right module.\n",
    "\n",
    "As a quick note, this example will be using Python 3.8.3, and Anaconda 2020.07, which comes with AstroPy 4.0.1. BUT, this code should work with Python 2.7 and Astropy 2 or better. Really, you sould try to switch to Python 3, but a lot of astronomy is stuck in the mud, and still uses Python 2.7. It's not a big deal, though there are a few key differences. If you ask for help online, most people will assume you are using Python 3."
   ]
  },
  {
   "cell_type": "code",
   "execution_count": 4,
   "metadata": {},
   "outputs": [],
   "source": [
    "from astropy.io import fits # We are just importing the fits module from astropy"
   ]
  },
  {
   "cell_type": "code",
   "execution_count": 6,
   "metadata": {},
   "outputs": [
    {
     "name": "stdout",
     "output_type": "stream",
     "text": [
      "Filename: ./Data/ExampleFITS.fits\n",
      "No.    Name      Ver    Type      Cards   Dimensions   Format\n",
      "  0  PRIMARY       1 PrimaryHDU      16   (500, 500)   float64   \n"
     ]
    }
   ],
   "source": [
    "# Define path to the example fits file\n",
    "path_to_file = './Data/ExampleFITS.fits'\n",
    "\n",
    "# Read in the fits file with fits.open\n",
    "# HDU is the term used for a Header Data Unit - a \"thing\" that contains both \"header\" information and \"data\" information\n",
    "# FITS files can contain multiple HDUs, composed into a List.\n",
    "HDUList = fits.open(path_to_file)\n",
    "\n",
    "# Lets check out what the HDUList contains!\n",
    "HDUList.info()"
   ]
  },
  {
   "cell_type": "markdown",
   "metadata": {},
   "source": [
    "The ``.info`` method prints out all the information from the HDU List. In general, each HDU contains some information regarding the file. These may be images or image cubes (or even hypercubes with more than 3 dimensions!) with associated headers which tell you what each image contains, or they may be headers without images which contain information regarding the file itself, such as when it was created, or what telescope was used. Sometimes, an HDU might be something like a table. Dont worry if some of this is confusing, it will be explained in a moment.\n",
    "\n",
    "For now, it is just important to note that when opened this way, HDU Lists can contain more than one HDU, and some of those might be image/header pairs. These pairs may each tell a different part of the story. The first pair is usually the *data* pair. This is the actual observation. The second pair may be a corresponding map of the noise, or some other secondary information. \n",
    "\n",
    "It is also worth noting that sometimes, while the first image/header pairing in an HDU List SHOULD be the *data*, the PrimaryHDU is not always an image/header pair. Instead, it is often just a header, giving overall information about the observing run. So just be careful. If you use the ``.info`` method and ``PRIMARY`` does not have any Dimensions listed, then there is no image data there.\n",
    "\n",
    "Lets go back to our example FITS file. In our case, there is only one HDU, and it appears to contain an image (as shown by the Dimensions having a physical size) and a header (shown by the number of Cards). So lets select this HDU and see what it contains."
   ]
  },
  {
   "cell_type": "code",
   "execution_count": 7,
   "metadata": {},
   "outputs": [
    {
     "data": {
      "text/plain": [
       "SIMPLE  =                    T / conforms to FITS standard                      \n",
       "BITPIX  =                  -64 / array data type                                \n",
       "NAXIS   =                    2 / number of array dimensions                     \n",
       "NAXIS1  =                  500                                                  \n",
       "NAXIS2  =                  500                                                  \n",
       "BUNIT   = 'MJy/sr  '           / Unit of the data                               \n",
       "CRPIX1  =                249.5 / [] WCS: Reference pixel position axis 1        \n",
       "CRPIX2  =                249.5 / [] WCS: Reference pixel position axis 2        \n",
       "CRVAL1  =                  0.0 / [] WCS: First coordinate of reference pixel    \n",
       "CRVAL2  =                  0.0 / [] WCS: Second coordinate of referene pixel    \n",
       "CDELT1  = -0.00027777777777777 / [] WCS: Pixel scale axis 1, unit=Angle         \n",
       "CDELT2  = 0.000277777777777777 / [] WCS: Pixel scale axis 2, unit=Angle         \n",
       "CTYPE1  = 'RA---TAN'           / [] WCS: Projection type axis 1, default=\"Linear\n",
       "CTYPE2  = 'DEC--TAN'           / [] WCS: Projection type axis 1, default=\"Linear\n",
       "CROTA2  =                  0.0 / [] WCS: The Rotation angle                     \n",
       "EQUINOX =               2000.0 / [] Equinox of celestial coordinate system      "
      ]
     },
     "execution_count": 7,
     "metadata": {},
     "output_type": "execute_result"
    }
   ],
   "source": [
    "# Save the first (and in this case, only) element of HDUList to a new variable\n",
    "HDU = HDUList[0]\n",
    "\n",
    "# Now print out the header\n",
    "HDU.header"
   ]
  },
  {
   "cell_type": "code",
   "execution_count": null,
   "metadata": {},
   "outputs": [],
   "source": []
  }
 ],
 "metadata": {
  "kernelspec": {
   "display_name": "Python 3",
   "language": "python",
   "name": "python3"
  },
  "language_info": {
   "codemirror_mode": {
    "name": "ipython",
    "version": 3
   },
   "file_extension": ".py",
   "mimetype": "text/x-python",
   "name": "python",
   "nbconvert_exporter": "python",
   "pygments_lexer": "ipython3",
   "version": "3.8.3"
  }
 },
 "nbformat": 4,
 "nbformat_minor": 4
}
